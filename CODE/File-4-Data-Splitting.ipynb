{
 "cells": [
  {
   "attachments": {
    "File-4-Data-Splitting.png": {
     "image/png": "[encoded data removed]"
    }
   },
   "cell_type": "markdown",
   "id": "e7e61f58",
   "metadata": {},
   "source": [
    "![File-4-Data-Splitting.png](attachment:File-4-Data-Splitting.png)"
   ]
  },
  {
   "cell_type": "markdown",
   "id": "747d4bf4",
   "metadata": {},
   "source": [
    "**Data splitting** is a common practice in machine learning and data analysis, where a dataset is divided into multiple subsets for various purposes, such as training a model, validating its performance, and testing its generalization to new, unseen data."
   ]
  },
  {
   "cell_type": "markdown",
   "id": "7bcce6e5",
   "metadata": {},
   "source": [
    "<div style=\"text-align: center; background-color: #856ff8; padding: 10px;\">\n",
    "    <h2 style=\"font-weight: bold;\">OUTLINE</h2>\n",
    "</div>"
   ]
  },
  {
   "cell_type": "markdown",
   "id": "d96e1e20",
   "metadata": {},
   "source": [
    "- Importing Various Modules\n",
    "- Loading Dataset\n",
    "- Training, Development and Testing Phase\n",
    "- Baseline\n",
    "  - Textblob\n",
    "- Feature Extraction\n",
    "  - Unigram\n",
    "    - Without Stopwords\n",
    "    - With Stopwords\n",
    "    - Without Custom Stopwords\n",
    "  - Bigram\n",
    "    - With Stopwords\n",
    "  - Trigram\n",
    "    - With Stopwords\n",
    "- Classification Report\n",
    "  - Unigram\n",
    "  - Bigram\n",
    "  - Trigram\n",
    "- Save Dataframe to CSV File"
   ]
  },
  {
   "cell_type": "markdown",
   "id": "9e79824d",
   "metadata": {},
   "source": [
    "<div style=\"text-align: center; background-color: yellow; padding: 10px;\">\n",
    "    <h2 style=\"font-weight: bold;\">IMPORTING VARIOUS MODULES</h2>\n",
    "</div>"
   ]
  },
  {
   "cell_type": "code",
   "execution_count": 1,
   "id": "e68c455d",
   "metadata": {},
   "outputs": [],
   "source": [
    "import pandas as pd\n",
    "import numpy as np\n",
    "\n",
    "import matplotlib.pyplot as plt\n",
    "import seaborn as sns\n",
    "%matplotlib inline\n",
    "\n",
    "from time import time\n",
    "\n",
    "from textblob import TextBlob\n",
    "\n",
    "from sklearn.feature_extraction import text\n",
    "\n",
    "from sklearn.feature_extraction.text import CountVectorizer\n",
    "from sklearn.linear_model import LogisticRegression\n",
    "from sklearn.pipeline import Pipeline\n",
    "\n",
    "from sklearn.model_selection import train_test_split\n",
    "\n",
    "from sklearn.metrics import accuracy_score, classification_report, confusion_matrix\n",
    "\n",
    "import warnings\n",
    "warnings.filterwarnings(\"ignore\")"
   ]
  },
  {
   "cell_type": "markdown",
   "id": "25b08987",
   "metadata": {},
   "source": [
    "<div style=\"text-align: center; background-color: yellow; padding: 10px;\">\n",
    "    <h2 style=\"font-weight: bold;\">LOADING DATASET</h2>\n",
    "</div>"
   ]
  },
  {
   "cell_type": "code",
   "execution_count": 2,
   "id": "03cc3109",
   "metadata": {},
   "outputs": [],
   "source": [
    "# Reading the dataset with no columns titles and with latin encoding \n",
    "twitter_data = pd.read_csv('twitter_sentiment_data_cleaned.csv', encoding = \"ISO-8859-1\")"
   ]
  },
  {
   "cell_type": "code",
   "execution_count": 3,
   "id": "c08bfa0b",
   "metadata": {},
   "outputs": [],
   "source": [
    "# As the data has no column titles, we will add our own\n",
    "twitter_data.columns = ['sentiment', 'text']"
   ]
  },
  {
   "cell_type": "code",
   "execution_count": 4,
   "id": "f1e5f00d",
   "metadata": {},
   "outputs": [
    {
     "data": {
      "text/html": [
       "<style type=\"text/css\">\n",
       "#T_b8387_row0_col0, #T_b8387_row0_col1, #T_b8387_row1_col0, #T_b8387_row1_col1, #T_b8387_row2_col0, #T_b8387_row2_col1, #T_b8387_row3_col0, #T_b8387_row3_col1, #T_b8387_row4_col0, #T_b8387_row4_col1 {\n",
       "  background-color: #E9F6E2;\n",
       "  color: black;\n",
       "  border-color: #8b8c8c;\n",
       "}\n",
       "</style>\n",
       "<table id=\"T_b8387\">\n",
       "  <thead>\n",
       "    <tr>\n",
       "      <th class=\"blank level0\" >&nbsp;</th>\n",
       "      <th id=\"T_b8387_level0_col0\" class=\"col_heading level0 col0\" >sentiment</th>\n",
       "      <th id=\"T_b8387_level0_col1\" class=\"col_heading level0 col1\" >text</th>\n",
       "    </tr>\n",
       "  </thead>\n",
       "  <tbody>\n",
       "    <tr>\n",
       "      <th id=\"T_b8387_level0_row0\" class=\"row_heading level0 row0\" >0</th>\n",
       "      <td id=\"T_b8387_row0_col0\" class=\"data row0 col0\" >4</td>\n",
       "      <td id=\"T_b8387_row0_col1\" class=\"data row0 col1\" >is lookin ward to a long weekend really dont want to go to work day tho x</td>\n",
       "    </tr>\n",
       "    <tr>\n",
       "      <th id=\"T_b8387_level0_row1\" class=\"row_heading level0 row1\" >1</th>\n",
       "      <td id=\"T_b8387_row1_col0\" class=\"data row1 col0\" >4</td>\n",
       "      <td id=\"T_b8387_row1_col1\" class=\"data row1 col1\" >myweakness is music and i live to meet the people who make it</td>\n",
       "    </tr>\n",
       "    <tr>\n",
       "      <th id=\"T_b8387_level0_row2\" class=\"row_heading level0 row2\" >2</th>\n",
       "      <td id=\"T_b8387_row2_col0\" class=\"data row2 col0\" >4</td>\n",
       "      <td id=\"T_b8387_row2_col1\" class=\"data row2 col1\" >figured out the internet on my new ipod</td>\n",
       "    </tr>\n",
       "    <tr>\n",
       "      <th id=\"T_b8387_level0_row3\" class=\"row_heading level0 row3\" >3</th>\n",
       "      <td id=\"T_b8387_row3_col0\" class=\"data row3 col0\" >4</td>\n",
       "      <td id=\"T_b8387_row3_col1\" class=\"data row3 col1\" >can not wait to worship with you guys tonight it ll be so much fun</td>\n",
       "    </tr>\n",
       "    <tr>\n",
       "      <th id=\"T_b8387_level0_row4\" class=\"row_heading level0 row4\" >4</th>\n",
       "      <td id=\"T_b8387_row4_col0\" class=\"data row4 col0\" >4</td>\n",
       "      <td id=\"T_b8387_row4_col1\" class=\"data row4 col1\" >congrats james i m sure the book is going to be a huge success</td>\n",
       "    </tr>\n",
       "  </tbody>\n",
       "</table>\n"
      ],
      "text/plain": [
       "<pandas.io.formats.style.Styler at 0x28a1804d0a0>"
      ]
     },
     "execution_count": 4,
     "metadata": {},
     "output_type": "execute_result"
    }
   ],
   "source": [
    "# Show the first 5 rows of the dataframe.\n",
    "twitter_data.head().style.set_properties(**{'background-color': '#E9F6E2','color': 'black','border-color': '#8b8c8c'})"
   ]
  },
  {
   "cell_type": "code",
   "execution_count": 5,
   "id": "7e814332",
   "metadata": {},
   "outputs": [
    {
     "data": {
      "text/html": [
       "<style type=\"text/css\">\n",
       "#T_b264a_row0_col0, #T_b264a_row0_col1, #T_b264a_row1_col0, #T_b264a_row1_col1, #T_b264a_row2_col0, #T_b264a_row2_col1, #T_b264a_row3_col0, #T_b264a_row3_col1, #T_b264a_row4_col0, #T_b264a_row4_col1 {\n",
       "  background-color: #E9F6E2;\n",
       "  color: black;\n",
       "  border-color: #8b8c8c;\n",
       "}\n",
       "</style>\n",
       "<table id=\"T_b264a\">\n",
       "  <thead>\n",
       "    <tr>\n",
       "      <th class=\"blank level0\" >&nbsp;</th>\n",
       "      <th id=\"T_b264a_level0_col0\" class=\"col_heading level0 col0\" >sentiment</th>\n",
       "      <th id=\"T_b264a_level0_col1\" class=\"col_heading level0 col1\" >text</th>\n",
       "    </tr>\n",
       "  </thead>\n",
       "  <tbody>\n",
       "    <tr>\n",
       "      <th id=\"T_b264a_level0_row0\" class=\"row_heading level0 row0\" >399995</th>\n",
       "      <td id=\"T_b264a_row0_col0\" class=\"data row0 col0\" >0</td>\n",
       "      <td id=\"T_b264a_row0_col1\" class=\"data row0 col1\" >that is he does not know i tweet and i would like keep it that way sorry bad wife</td>\n",
       "    </tr>\n",
       "    <tr>\n",
       "      <th id=\"T_b264a_level0_row1\" class=\"row_heading level0 row1\" >399996</th>\n",
       "      <td id=\"T_b264a_row1_col0\" class=\"data row1 col0\" >0</td>\n",
       "      <td id=\"T_b264a_row1_col1\" class=\"data row1 col1\" >huh what</td>\n",
       "    </tr>\n",
       "    <tr>\n",
       "      <th id=\"T_b264a_level0_row2\" class=\"row_heading level0 row2\" >399997</th>\n",
       "      <td id=\"T_b264a_row2_col0\" class=\"data row2 col0\" >0</td>\n",
       "      <td id=\"T_b264a_row2_col1\" class=\"data row2 col1\" >only thing is im broke</td>\n",
       "    </tr>\n",
       "    <tr>\n",
       "      <th id=\"T_b264a_level0_row3\" class=\"row_heading level0 row3\" >399998</th>\n",
       "      <td id=\"T_b264a_row3_col0\" class=\"data row3 col0\" >0</td>\n",
       "      <td id=\"T_b264a_row3_col1\" class=\"data row3 col1\" >wish i could work from home today nothing will be going on here</td>\n",
       "    </tr>\n",
       "    <tr>\n",
       "      <th id=\"T_b264a_level0_row4\" class=\"row_heading level0 row4\" >399999</th>\n",
       "      <td id=\"T_b264a_row4_col0\" class=\"data row4 col0\" >0</td>\n",
       "      <td id=\"T_b264a_row4_col1\" class=\"data row4 col1\" >i miss you too i was so worried well today s my last day of school b the break glad u feel better love you</td>\n",
       "    </tr>\n",
       "  </tbody>\n",
       "</table>\n"
      ],
      "text/plain": [
       "<pandas.io.formats.style.Styler at 0x28a200ff3a0>"
      ]
     },
     "execution_count": 5,
     "metadata": {},
     "output_type": "execute_result"
    }
   ],
   "source": [
    "# Print bottom 5 rows in the dataframe.\n",
    "twitter_data.tail().style.set_properties(**{'background-color': '#E9F6E2','color': 'black','border-color': '#8b8c8c'})"
   ]
  },
  {
   "cell_type": "code",
   "execution_count": 6,
   "id": "b3525fd5",
   "metadata": {},
   "outputs": [
    {
     "name": "stdout",
     "output_type": "stream",
     "text": [
      "The shape of data frame: (400000, 2)\n",
      "Number of Rows in the dataframe: 400000\n",
      "Number of Columns in the dataframe: 2\n"
     ]
    }
   ],
   "source": [
    "# Print the shape of the DataFrame\n",
    "print(\"The shape of data frame:\", twitter_data.shape)\n",
    "# Print the length (number of rows) of the DataFrame\n",
    "print(\"Number of Rows in the dataframe:\", len(twitter_data))\n",
    "# Print the number of columns in the DataFrame\n",
    "print(\"Number of Columns in the dataframe:\", len(twitter_data.columns))"
   ]
  },
  {
   "cell_type": "code",
   "execution_count": 7,
   "id": "d7ea0bc4",
   "metadata": {},
   "outputs": [
    {
     "name": "stdout",
     "output_type": "stream",
     "text": [
      "<class 'pandas.core.frame.DataFrame'>\n",
      "RangeIndex: 400000 entries, 0 to 399999\n",
      "Data columns (total 2 columns):\n",
      " #   Column     Non-Null Count   Dtype \n",
      "---  ------     --------------   ----- \n",
      " 0   sentiment  400000 non-null  int64 \n",
      " 1   text       399187 non-null  object\n",
      "dtypes: int64(1), object(1)\n",
      "memory usage: 6.1+ MB\n"
     ]
    }
   ],
   "source": [
    "twitter_data.info() "
   ]
  },
  {
   "cell_type": "code",
   "execution_count": 8,
   "id": "abc4dbaa",
   "metadata": {},
   "outputs": [],
   "source": [
    "twitter_data['sentiment'] = twitter_data['sentiment'].map({0:0,4:1})"
   ]
  },
  {
   "cell_type": "code",
   "execution_count": 9,
   "id": "280c464f",
   "metadata": {},
   "outputs": [],
   "source": [
    "twitter_data.dropna(inplace=True)"
   ]
  },
  {
   "cell_type": "code",
   "execution_count": 10,
   "id": "3ee72fe5",
   "metadata": {},
   "outputs": [
    {
     "name": "stdout",
     "output_type": "stream",
     "text": [
      "<class 'pandas.core.frame.DataFrame'>\n",
      "Int64Index: 399187 entries, 0 to 399999\n",
      "Data columns (total 2 columns):\n",
      " #   Column     Non-Null Count   Dtype \n",
      "---  ------     --------------   ----- \n",
      " 0   sentiment  399187 non-null  int64 \n",
      " 1   text       399187 non-null  object\n",
      "dtypes: int64(1), object(1)\n",
      "memory usage: 9.1+ MB\n"
     ]
    }
   ],
   "source": [
    "twitter_data.info()"
   ]
  },
  {
   "cell_type": "markdown",
   "id": "4245ab32",
   "metadata": {},
   "source": [
    "<div style=\"text-align: center; background-color: yellow; padding: 10px;\">\n",
    "    <h2 style=\"font-weight: bold;\">TRAINING, DEVELOPMENT AND TESTING PHASE</h2>\n",
    "</div>"
   ]
  },
  {
   "cell_type": "markdown",
   "id": "bbc03c51",
   "metadata": {},
   "source": [
    "We will split the data into three sections: train, development and test. Our chosen ratio is 98/1/1 i.e. 98% for the training set, 1% for the development set and 1% for the testing set.\n",
    "* Train set: The dataset used for learning\n",
    "* Development Set: A validation/development dataset is a sample of data held back from training your model that is used to give an estimate of model skill while tuning model’s hyperparameters.\n",
    "* Test Set: The dataset used to assess the performance of a model."
   ]
  },
  {
   "cell_type": "code",
   "execution_count": 11,
   "id": "2aab3f51",
   "metadata": {},
   "outputs": [],
   "source": [
    "# Define all other columns except the target variable\n",
    "x = twitter_data['text'] \n",
    "# Define the target variable\n",
    "y = twitter_data['sentiment']"
   ]
  },
  {
   "cell_type": "code",
   "execution_count": 12,
   "id": "629365c4",
   "metadata": {},
   "outputs": [],
   "source": [
    "x_train, x_validation_and_test, y_train, y_validation_and_test = train_test_split(x, y, test_size = 0.02, random_state = 42)"
   ]
  },
  {
   "cell_type": "code",
   "execution_count": 13,
   "id": "aaa2b060",
   "metadata": {},
   "outputs": [],
   "source": [
    "x_validation, x_test, y_validation, y_test = train_test_split(x_validation_and_test, y_validation_and_test, \n",
    "                                                              test_size = 0.5, random_state = 42)"
   ]
  },
  {
   "cell_type": "code",
   "execution_count": 14,
   "id": "180334f8",
   "metadata": {},
   "outputs": [
    {
     "name": "stdout",
     "output_type": "stream",
     "text": [
      "Training set has 391203 entries, where 49.98 are positive and 50.02 are negative\n"
     ]
    }
   ],
   "source": [
    "print(\"Training set has {0} entries, where {1:.2f} are positive and {2:.2f} are negative\".\n",
    "      format(len(x_train),len(x_train[y_train==1])/len(x_train)*100, len(x_train[y_train==0])/len(x_train)*100))"
   ]
  },
  {
   "cell_type": "code",
   "execution_count": 15,
   "id": "b13f96fe",
   "metadata": {},
   "outputs": [
    {
     "name": "stdout",
     "output_type": "stream",
     "text": [
      "Validation set has 3992 entries, where 51.13 are positive and 48.87 are negative\n"
     ]
    }
   ],
   "source": [
    "print(\"Validation set has {0} entries, where {1:.2f} are positive and {2:.2f} are negative\".\n",
    "      format(len(x_validation),len(x_validation[y_validation==1])/len(x_validation)*100, \n",
    "             len(x_validation[y_validation==0])/len(x_validation)*100))"
   ]
  },
  {
   "cell_type": "code",
   "execution_count": 16,
   "id": "c3d7b1e0",
   "metadata": {},
   "outputs": [
    {
     "name": "stdout",
     "output_type": "stream",
     "text": [
      "Testing set has 3992 entries, where 50.38 are positive and 49.62 are negative\n"
     ]
    }
   ],
   "source": [
    "print(\"Testing set has {0} entries, where {1:.2f} are positive and {2:.2f} are negative\".\n",
    "      format(len(x_test),len(x_test[y_test==1])/len(x_test)*100, \n",
    "             len(x_test[y_test==0])/len(x_test)*100))"
   ]
  },
  {
   "cell_type": "markdown",
   "id": "571f6fa9",
   "metadata": {},
   "source": [
    "<div style=\"text-align: center; background-color: yellow; padding: 10px;\">\n",
    "    <h2 style=\"font-weight: bold;\">BASELINE</h2>\n",
    "</div>"
   ]
  },
  {
   "cell_type": "markdown",
   "id": "a664edc7",
   "metadata": {},
   "source": [
    "<br>\n",
    "<span style=\"color: yellow; background-color: black; font-weight: bold; padding: 5px; font-size: 32px;\"> TextBlob </span>\n",
    "</br>"
   ]
  },
  {
   "cell_type": "markdown",
   "id": "410a70c0",
   "metadata": {},
   "source": [
    "We will use the sentiment analysis function of TextBlob as baseline for our project. It will provide us a point of reference to compare our future models."
   ]
  },
  {
   "cell_type": "code",
   "execution_count": 17,
   "id": "dac7dd35",
   "metadata": {},
   "outputs": [],
   "source": [
    "tbresult = []\n",
    "for i in x_validation:\n",
    "    tbresult.append(TextBlob(i).sentiment.polarity)"
   ]
  },
  {
   "cell_type": "code",
   "execution_count": 18,
   "id": "c4511342",
   "metadata": {},
   "outputs": [],
   "source": [
    "tbpred = []\n",
    "for i in tbresult:\n",
    "    if i<0:\n",
    "        tbpred.append(0)\n",
    "    else:\n",
    "        tbpred.append(1)    "
   ]
  },
  {
   "cell_type": "code",
   "execution_count": 19,
   "id": "91f2d1cc",
   "metadata": {},
   "outputs": [],
   "source": [
    "# Assuming y_validation and tbpred are your actual and predicted labels, respectively\n",
    "conmat = np.array(confusion_matrix(y_validation, tbpred, labels=[1, 0]))\n",
    "confusion = pd.DataFrame(conmat, index=['positive', 'negative'], columns=['predicted_positive', 'predicted_negative'])"
   ]
  },
  {
   "cell_type": "code",
   "execution_count": 20,
   "id": "06a30ecf",
   "metadata": {},
   "outputs": [
    {
     "name": "stdout",
     "output_type": "stream",
     "text": [
      "Confusion Matrix:\n",
      "          predicted_positive  predicted_negative\n",
      "positive                1829                 212\n",
      "negative                1297                 654\n"
     ]
    }
   ],
   "source": [
    "# Printing the confusion matrix\n",
    "print(\"Confusion Matrix:\")\n",
    "print(confusion)"
   ]
  },
  {
   "cell_type": "code",
   "execution_count": 21,
   "id": "84884e9c",
   "metadata": {},
   "outputs": [
    {
     "name": "stdout",
     "output_type": "stream",
     "text": [
      "Accuracy score: 62.20 %\n"
     ]
    }
   ],
   "source": [
    "# Calculating and printing the accuracy score\n",
    "accuracy = accuracy_score(y_validation, tbpred)\n",
    "print(\"Accuracy score: {0:.2f} %\".format(accuracy * 100))"
   ]
  },
  {
   "cell_type": "code",
   "execution_count": 22,
   "id": "7aa7785d",
   "metadata": {},
   "outputs": [
    {
     "name": "stdout",
     "output_type": "stream",
     "text": [
      "Classification Report\n",
      "              precision    recall  f1-score   support\n",
      "\n",
      "           0       0.76      0.34      0.46      1951\n",
      "           1       0.59      0.90      0.71      2041\n",
      "\n",
      "    accuracy                           0.62      3992\n",
      "   macro avg       0.67      0.62      0.59      3992\n",
      "weighted avg       0.67      0.62      0.59      3992\n",
      "\n"
     ]
    }
   ],
   "source": [
    "print(\"Classification Report\")\n",
    "print(classification_report(y_validation, tbpred))"
   ]
  },
  {
   "cell_type": "markdown",
   "id": "3467e0cf",
   "metadata": {},
   "source": [
    "Hence, TextBlob sentiment analysis yielded 62.20% accuracy on the validation set."
   ]
  },
  {
   "cell_type": "markdown",
   "id": "e1190ef3",
   "metadata": {},
   "source": [
    "<div style=\"text-align: center; background-color: yellow; padding: 10px;\">\n",
    "    <h2 style=\"font-weight: bold;\">FEATURE EXTRACTION</h2>\n",
    "</div>"
   ]
  },
  {
   "cell_type": "code",
   "execution_count": 23,
   "id": "27d9507a",
   "metadata": {},
   "outputs": [],
   "source": [
    "null_accuracy = 0\n",
    "def accuracy_summary(pipeline, x_train, y_train, x_test, y_test):\n",
    "    if len(x_test[y_test==0])/len(x_test)>0.5:\n",
    "        null_accuracy = len(x_test[y_test==0])/len(x_test)\n",
    "    else:\n",
    "        null_accuracy = 1 - len(x_test[y_test==0])/len(x_test)\n",
    "    t0 = time()\n",
    "    sentiment_fit = pipeline.fit(x_train, y_train)\n",
    "    y_pred = sentiment_fit.predict(x_test)\n",
    "    train_test_time = time() - t0\n",
    "    accuracy = accuracy_score(y_test, y_pred)\n",
    "    print(\"Null accuracy: {0:.2f}%\".format(null_accuracy*100))\n",
    "    print(\"Accuracy: {0:.2f}%\".format(accuracy*100))\n",
    "    if accuracy>null_accuracy:\n",
    "        print(\"Model is {0:.2f}% more accurate than null accuracy\".format((accuracy-null_accuracy)*100))\n",
    "    elif accuracy==null_accuracy:\n",
    "        print(\"Model has the same accuracy as null accuracy\")\n",
    "    else:\n",
    "        print(\"Model is {0:.2f}% less accurate than null accuracy\".format((null_accuracy-accuracy)*100))\n",
    "    print(\"Train and test time: {0:.2f}s\".format(train_test_time))\n",
    "    print(\"-\"*50)\n",
    "    return accuracy, train_test_time"
   ]
  },
  {
   "cell_type": "code",
   "execution_count": 24,
   "id": "4451eead",
   "metadata": {},
   "outputs": [],
   "source": [
    "cvec = CountVectorizer()\n",
    "lr = LogisticRegression()\n",
    "n_features = np.arange(10000, 100001, 10000)"
   ]
  },
  {
   "cell_type": "code",
   "execution_count": 25,
   "id": "01876cda",
   "metadata": {},
   "outputs": [],
   "source": [
    "def nfeature_accuracy_checker(vectorizer = cvec, n_features = n_features, stop_words = None, \n",
    "                              ngram_range = (1,1), classifier = lr):\n",
    "    result = []\n",
    "    print(classifier, \"\\n\")\n",
    "    for n in n_features:\n",
    "        vectorizer.set_params(stop_words = stop_words, max_features = n, ngram_range=ngram_range)\n",
    "        checker_pipeline = Pipeline([('vectorizer', vectorizer), ('classifier', classifier)])\n",
    "        print(\"Validation result for {0} features\".format(n))\n",
    "        nfeature_accuracy, ttime = accuracy_summary(checker_pipeline, x_train, y_train, x_validation, y_validation)\n",
    "        result.append((n, nfeature_accuracy, ttime))\n",
    "    return result"
   ]
  },
  {
   "cell_type": "markdown",
   "id": "b5a10b01",
   "metadata": {},
   "source": [
    "<br>\n",
    "<span style=\"color: yellow; background-color: black; font-weight: bold; padding: 5px; font-size: 32px;\"> UNIGRAM </span>\n",
    "</br>"
   ]
  },
  {
   "cell_type": "markdown",
   "id": "26ad6842",
   "metadata": {},
   "source": [
    "<br>\n",
    "<span style=\"color: blue; background-color: grey; font-weight: bold; padding: 5px; font-size: 24px;\"> WITHOUT STOPWORDS </span>\n",
    "</br>"
   ]
  },
  {
   "cell_type": "code",
   "execution_count": 26,
   "id": "88330c75",
   "metadata": {},
   "outputs": [
    {
     "name": "stdout",
     "output_type": "stream",
     "text": [
      "RESULT FOR UNIGRAM WITHOUT STOP WORDS\n",
      "\n",
      "LogisticRegression() \n",
      "\n",
      "Validation result for 10000 features\n",
      "Null accuracy: 51.13%\n",
      "Accuracy: 76.00%\n",
      "Model is 24.87% more accurate than null accuracy\n",
      "Train and test time: 9.63s\n",
      "--------------------------------------------------\n",
      "Validation result for 20000 features\n",
      "Null accuracy: 51.13%\n",
      "Accuracy: 76.38%\n",
      "Model is 25.25% more accurate than null accuracy\n",
      "Train and test time: 9.43s\n",
      "--------------------------------------------------\n",
      "Validation result for 30000 features\n",
      "Null accuracy: 51.13%\n",
      "Accuracy: 76.33%\n",
      "Model is 25.20% more accurate than null accuracy\n",
      "Train and test time: 9.59s\n",
      "--------------------------------------------------\n",
      "Validation result for 40000 features\n",
      "Null accuracy: 51.13%\n",
      "Accuracy: 76.60%\n",
      "Model is 25.48% more accurate than null accuracy\n",
      "Train and test time: 10.13s\n",
      "--------------------------------------------------\n",
      "Validation result for 50000 features\n",
      "Null accuracy: 51.13%\n",
      "Accuracy: 76.25%\n",
      "Model is 25.13% more accurate than null accuracy\n",
      "Train and test time: 9.65s\n",
      "--------------------------------------------------\n",
      "Validation result for 60000 features\n",
      "Null accuracy: 51.13%\n",
      "Accuracy: 76.23%\n",
      "Model is 25.10% more accurate than null accuracy\n",
      "Train and test time: 12.41s\n",
      "--------------------------------------------------\n",
      "Validation result for 70000 features\n",
      "Null accuracy: 51.13%\n",
      "Accuracy: 76.18%\n",
      "Model is 25.05% more accurate than null accuracy\n",
      "Train and test time: 10.42s\n",
      "--------------------------------------------------\n",
      "Validation result for 80000 features\n",
      "Null accuracy: 51.13%\n",
      "Accuracy: 76.25%\n",
      "Model is 25.13% more accurate than null accuracy\n",
      "Train and test time: 11.31s\n",
      "--------------------------------------------------\n",
      "Validation result for 90000 features\n",
      "Null accuracy: 51.13%\n",
      "Accuracy: 76.08%\n",
      "Model is 24.95% more accurate than null accuracy\n",
      "Train and test time: 11.46s\n",
      "--------------------------------------------------\n",
      "Validation result for 100000 features\n",
      "Null accuracy: 51.13%\n",
      "Accuracy: 76.05%\n",
      "Model is 24.92% more accurate than null accuracy\n",
      "Train and test time: 10.93s\n",
      "--------------------------------------------------\n",
      "Wall time: 1min 44s\n"
     ]
    }
   ],
   "source": [
    "%%time\n",
    "print(\"RESULT FOR UNIGRAM WITHOUT STOP WORDS\\n\")\n",
    "feature_result_unigram = nfeature_accuracy_checker(stop_words='english')"
   ]
  },
  {
   "cell_type": "markdown",
   "id": "f04b5537",
   "metadata": {},
   "source": [
    "<br>\n",
    "<span style=\"color: blue; background-color: grey; font-weight: bold; padding: 5px; font-size: 24px;\"> WITH STOPWORDS </span>\n",
    "</br>"
   ]
  },
  {
   "cell_type": "code",
   "execution_count": 27,
   "id": "3df3ee96",
   "metadata": {},
   "outputs": [
    {
     "name": "stdout",
     "output_type": "stream",
     "text": [
      "RESULT FOR UNIGRAM WITH STOP WORDS\n",
      "\n",
      "LogisticRegression() \n",
      "\n",
      "Validation result for 10000 features\n",
      "Null accuracy: 51.13%\n",
      "Accuracy: 79.11%\n",
      "Model is 27.98% more accurate than null accuracy\n",
      "Train and test time: 10.08s\n",
      "--------------------------------------------------\n",
      "Validation result for 20000 features\n",
      "Null accuracy: 51.13%\n",
      "Accuracy: 79.13%\n",
      "Model is 28.01% more accurate than null accuracy\n",
      "Train and test time: 10.34s\n",
      "--------------------------------------------------\n",
      "Validation result for 30000 features\n",
      "Null accuracy: 51.13%\n",
      "Accuracy: 79.38%\n",
      "Model is 28.26% more accurate than null accuracy\n",
      "Train and test time: 11.14s\n",
      "--------------------------------------------------\n",
      "Validation result for 40000 features\n",
      "Null accuracy: 51.13%\n",
      "Accuracy: 79.08%\n",
      "Model is 27.96% more accurate than null accuracy\n",
      "Train and test time: 10.27s\n",
      "--------------------------------------------------\n",
      "Validation result for 50000 features\n",
      "Null accuracy: 51.13%\n",
      "Accuracy: 79.21%\n",
      "Model is 28.08% more accurate than null accuracy\n",
      "Train and test time: 10.72s\n",
      "--------------------------------------------------\n",
      "Validation result for 60000 features\n",
      "Null accuracy: 51.13%\n",
      "Accuracy: 79.41%\n",
      "Model is 28.28% more accurate than null accuracy\n",
      "Train and test time: 12.30s\n",
      "--------------------------------------------------\n",
      "Validation result for 70000 features\n",
      "Null accuracy: 51.13%\n",
      "Accuracy: 79.08%\n",
      "Model is 27.96% more accurate than null accuracy\n",
      "Train and test time: 12.59s\n",
      "--------------------------------------------------\n",
      "Validation result for 80000 features\n",
      "Null accuracy: 51.13%\n",
      "Accuracy: 79.38%\n",
      "Model is 28.26% more accurate than null accuracy\n",
      "Train and test time: 11.01s\n",
      "--------------------------------------------------\n",
      "Validation result for 90000 features\n",
      "Null accuracy: 51.13%\n",
      "Accuracy: 79.21%\n",
      "Model is 28.08% more accurate than null accuracy\n",
      "Train and test time: 11.61s\n",
      "--------------------------------------------------\n",
      "Validation result for 100000 features\n",
      "Null accuracy: 51.13%\n",
      "Accuracy: 79.21%\n",
      "Model is 28.08% more accurate than null accuracy\n",
      "Train and test time: 11.94s\n",
      "--------------------------------------------------\n",
      "Wall time: 1min 52s\n"
     ]
    }
   ],
   "source": [
    "%%time\n",
    "print(\"RESULT FOR UNIGRAM WITH STOP WORDS\\n\")\n",
    "feature_result_unigram_stop = nfeature_accuracy_checker()"
   ]
  },
  {
   "cell_type": "code",
   "execution_count": 28,
   "id": "57895837",
   "metadata": {},
   "outputs": [],
   "source": [
    "# Reading the dataset with no columns titles and with latin encoding \n",
    "term_freq_df = pd.read_csv('twitter_term_frequency_data.csv', encoding = \"ISO-8859-1\")"
   ]
  },
  {
   "cell_type": "code",
   "execution_count": 29,
   "id": "ad6d81eb",
   "metadata": {},
   "outputs": [
    {
     "data": {
      "text/html": [
       "<style type=\"text/css\">\n",
       "#T_4988f_row0_col0, #T_4988f_row0_col1, #T_4988f_row0_col2, #T_4988f_row0_col3, #T_4988f_row1_col0, #T_4988f_row1_col1, #T_4988f_row1_col2, #T_4988f_row1_col3, #T_4988f_row2_col0, #T_4988f_row2_col1, #T_4988f_row2_col2, #T_4988f_row2_col3, #T_4988f_row3_col0, #T_4988f_row3_col1, #T_4988f_row3_col2, #T_4988f_row3_col3, #T_4988f_row4_col0, #T_4988f_row4_col1, #T_4988f_row4_col2, #T_4988f_row4_col3 {\n",
       "  background-color: #E9F6E2;\n",
       "  color: black;\n",
       "  border-color: #8b8c8c;\n",
       "}\n",
       "</style>\n",
       "<table id=\"T_4988f\">\n",
       "  <thead>\n",
       "    <tr>\n",
       "      <th class=\"blank level0\" >&nbsp;</th>\n",
       "      <th id=\"T_4988f_level0_col0\" class=\"col_heading level0 col0\" >word</th>\n",
       "      <th id=\"T_4988f_level0_col1\" class=\"col_heading level0 col1\" >negative</th>\n",
       "      <th id=\"T_4988f_level0_col2\" class=\"col_heading level0 col2\" >positive</th>\n",
       "      <th id=\"T_4988f_level0_col3\" class=\"col_heading level0 col3\" >total</th>\n",
       "    </tr>\n",
       "  </thead>\n",
       "  <tbody>\n",
       "    <tr>\n",
       "      <th id=\"T_4988f_level0_row0\" class=\"row_heading level0 row0\" >0</th>\n",
       "      <td id=\"T_4988f_row0_col0\" class=\"data row0 col0\" >aa</td>\n",
       "      <td id=\"T_4988f_row0_col1\" class=\"data row0 col1\" >45</td>\n",
       "      <td id=\"T_4988f_row0_col2\" class=\"data row0 col2\" >23</td>\n",
       "      <td id=\"T_4988f_row0_col3\" class=\"data row0 col3\" >68</td>\n",
       "    </tr>\n",
       "    <tr>\n",
       "      <th id=\"T_4988f_level0_row1\" class=\"row_heading level0 row1\" >1</th>\n",
       "      <td id=\"T_4988f_row1_col0\" class=\"data row1 col0\" >aaa</td>\n",
       "      <td id=\"T_4988f_row1_col1\" class=\"data row1 col1\" >23</td>\n",
       "      <td id=\"T_4988f_row1_col2\" class=\"data row1 col2\" >12</td>\n",
       "      <td id=\"T_4988f_row1_col3\" class=\"data row1 col3\" >35</td>\n",
       "    </tr>\n",
       "    <tr>\n",
       "      <th id=\"T_4988f_level0_row2\" class=\"row_heading level0 row2\" >2</th>\n",
       "      <td id=\"T_4988f_row2_col0\" class=\"data row2 col0\" >aaaa</td>\n",
       "      <td id=\"T_4988f_row2_col1\" class=\"data row2 col1\" >10</td>\n",
       "      <td id=\"T_4988f_row2_col2\" class=\"data row2 col2\" >6</td>\n",
       "      <td id=\"T_4988f_row2_col3\" class=\"data row2 col3\" >16</td>\n",
       "    </tr>\n",
       "    <tr>\n",
       "      <th id=\"T_4988f_level0_row3\" class=\"row_heading level0 row3\" >3</th>\n",
       "      <td id=\"T_4988f_row3_col0\" class=\"data row3 col0\" >aaaaa</td>\n",
       "      <td id=\"T_4988f_row3_col1\" class=\"data row3 col1\" >5</td>\n",
       "      <td id=\"T_4988f_row3_col2\" class=\"data row3 col2\" >3</td>\n",
       "      <td id=\"T_4988f_row3_col3\" class=\"data row3 col3\" >8</td>\n",
       "    </tr>\n",
       "    <tr>\n",
       "      <th id=\"T_4988f_level0_row4\" class=\"row_heading level0 row4\" >4</th>\n",
       "      <td id=\"T_4988f_row4_col0\" class=\"data row4 col0\" >aaaaaa</td>\n",
       "      <td id=\"T_4988f_row4_col1\" class=\"data row4 col1\" >4</td>\n",
       "      <td id=\"T_4988f_row4_col2\" class=\"data row4 col2\" >5</td>\n",
       "      <td id=\"T_4988f_row4_col3\" class=\"data row4 col3\" >9</td>\n",
       "    </tr>\n",
       "  </tbody>\n",
       "</table>\n"
      ],
      "text/plain": [
       "<pandas.io.formats.style.Styler at 0x28a204873d0>"
      ]
     },
     "execution_count": 29,
     "metadata": {},
     "output_type": "execute_result"
    }
   ],
   "source": [
    "# Print bottom 5 rows in the dataframe.\n",
    "term_freq_df.head().style.set_properties(**{'background-color': '#E9F6E2','color': 'black','border-color': '#8b8c8c'})"
   ]
  },
  {
   "cell_type": "code",
   "execution_count": 30,
   "id": "50340dc3",
   "metadata": {},
   "outputs": [
    {
     "name": "stdout",
     "output_type": "stream",
     "text": [
      "<class 'pandas.core.frame.DataFrame'>\n",
      "RangeIndex: 118312 entries, 0 to 118311\n",
      "Data columns (total 4 columns):\n",
      " #   Column    Non-Null Count   Dtype \n",
      "---  ------    --------------   ----- \n",
      " 0   word      118310 non-null  object\n",
      " 1   negative  118312 non-null  int64 \n",
      " 2   positive  118312 non-null  int64 \n",
      " 3   total     118312 non-null  int64 \n",
      "dtypes: int64(3), object(1)\n",
      "memory usage: 3.6+ MB\n"
     ]
    }
   ],
   "source": [
    "term_freq_df.info()"
   ]
  },
  {
   "cell_type": "code",
   "execution_count": 31,
   "id": "c56ead8d",
   "metadata": {},
   "outputs": [
    {
     "data": {
      "text/html": [
       "<div>\n",
       "<style scoped>\n",
       "    .dataframe tbody tr th:only-of-type {\n",
       "        vertical-align: middle;\n",
       "    }\n",
       "\n",
       "    .dataframe tbody tr th {\n",
       "        vertical-align: top;\n",
       "    }\n",
       "\n",
       "    .dataframe thead th {\n",
       "        text-align: right;\n",
       "    }\n",
       "</style>\n",
       "<table border=\"1\" class=\"dataframe\">\n",
       "  <thead>\n",
       "    <tr style=\"text-align: right;\">\n",
       "      <th></th>\n",
       "      <th>word</th>\n",
       "      <th>negative</th>\n",
       "      <th>positive</th>\n",
       "      <th>total</th>\n",
       "    </tr>\n",
       "  </thead>\n",
       "  <tbody>\n",
       "    <tr>\n",
       "      <th>104018</th>\n",
       "      <td>to</td>\n",
       "      <td>78026</td>\n",
       "      <td>63169</td>\n",
       "      <td>141195</td>\n",
       "    </tr>\n",
       "    <tr>\n",
       "      <th>102384</th>\n",
       "      <td>the</td>\n",
       "      <td>64676</td>\n",
       "      <td>66278</td>\n",
       "      <td>130954</td>\n",
       "    </tr>\n",
       "    <tr>\n",
       "      <th>68562</th>\n",
       "      <td>my</td>\n",
       "      <td>48048</td>\n",
       "      <td>31387</td>\n",
       "      <td>79435</td>\n",
       "    </tr>\n",
       "    <tr>\n",
       "      <th>51311</th>\n",
       "      <td>it</td>\n",
       "      <td>39520</td>\n",
       "      <td>36896</td>\n",
       "      <td>76416</td>\n",
       "    </tr>\n",
       "    <tr>\n",
       "      <th>3764</th>\n",
       "      <td>and</td>\n",
       "      <td>38529</td>\n",
       "      <td>37495</td>\n",
       "      <td>76024</td>\n",
       "    </tr>\n",
       "    <tr>\n",
       "      <th>117285</th>\n",
       "      <td>you</td>\n",
       "      <td>26060</td>\n",
       "      <td>49705</td>\n",
       "      <td>75765</td>\n",
       "    </tr>\n",
       "    <tr>\n",
       "      <th>71680</th>\n",
       "      <td>not</td>\n",
       "      <td>49426</td>\n",
       "      <td>21870</td>\n",
       "      <td>71296</td>\n",
       "    </tr>\n",
       "    <tr>\n",
       "      <th>51106</th>\n",
       "      <td>is</td>\n",
       "      <td>33384</td>\n",
       "      <td>27617</td>\n",
       "      <td>61001</td>\n",
       "    </tr>\n",
       "    <tr>\n",
       "      <th>49471</th>\n",
       "      <td>in</td>\n",
       "      <td>28829</td>\n",
       "      <td>25231</td>\n",
       "      <td>54060</td>\n",
       "    </tr>\n",
       "    <tr>\n",
       "      <th>36839</th>\n",
       "      <td>for</td>\n",
       "      <td>24852</td>\n",
       "      <td>29027</td>\n",
       "      <td>53879</td>\n",
       "    </tr>\n",
       "  </tbody>\n",
       "</table>\n",
       "</div>"
      ],
      "text/plain": [
       "       word  negative  positive   total\n",
       "104018   to     78026     63169  141195\n",
       "102384  the     64676     66278  130954\n",
       "68562    my     48048     31387   79435\n",
       "51311    it     39520     36896   76416\n",
       "3764    and     38529     37495   76024\n",
       "117285  you     26060     49705   75765\n",
       "71680   not     49426     21870   71296\n",
       "51106    is     33384     27617   61001\n",
       "49471    in     28829     25231   54060\n",
       "36839   for     24852     29027   53879"
      ]
     },
     "execution_count": 31,
     "metadata": {},
     "output_type": "execute_result"
    }
   ],
   "source": [
    "term_freq_df.sort_values(by='total', ascending=False).head(10)"
   ]
  },
  {
   "cell_type": "code",
   "execution_count": 32,
   "id": "efb5fee6",
   "metadata": {},
   "outputs": [
    {
     "data": {
      "text/plain": [
       "False"
      ]
     },
     "execution_count": 32,
     "metadata": {},
     "output_type": "execute_result"
    }
   ],
   "source": [
    "a = frozenset(list(term_freq_df.sort_values(by='total', ascending=False).iloc[:10].index))\n",
    "b = text.ENGLISH_STOP_WORDS\n",
    "set(a).issubset(set(b))"
   ]
  },
  {
   "cell_type": "code",
   "execution_count": 33,
   "id": "724d87fb",
   "metadata": {},
   "outputs": [],
   "source": [
    "my_stop_words = a"
   ]
  },
  {
   "cell_type": "markdown",
   "id": "fea82228",
   "metadata": {},
   "source": [
    "<br>\n",
    "<span style=\"color: blue; background-color: grey; font-weight: bold; padding: 5px; font-size: 24px;\"> WITHOUT CUSTOM STOPWORDS </span>\n",
    "</br>"
   ]
  },
  {
   "cell_type": "code",
   "execution_count": 34,
   "id": "28b795eb",
   "metadata": {},
   "outputs": [
    {
     "name": "stdout",
     "output_type": "stream",
     "text": [
      "RESULT FOR UNIGRAM WITHOUT CUSTOM STOP WORDS\n",
      "\n",
      "LogisticRegression() \n",
      "\n",
      "Validation result for 10000 features\n",
      "Null accuracy: 51.13%\n",
      "Accuracy: 79.11%\n",
      "Model is 27.98% more accurate than null accuracy\n",
      "Train and test time: 10.47s\n",
      "--------------------------------------------------\n",
      "Validation result for 20000 features\n",
      "Null accuracy: 51.13%\n",
      "Accuracy: 79.13%\n",
      "Model is 28.01% more accurate than null accuracy\n",
      "Train and test time: 11.40s\n",
      "--------------------------------------------------\n",
      "Validation result for 30000 features\n",
      "Null accuracy: 51.13%\n",
      "Accuracy: 79.38%\n",
      "Model is 28.26% more accurate than null accuracy\n",
      "Train and test time: 11.16s\n",
      "--------------------------------------------------\n",
      "Validation result for 40000 features\n",
      "Null accuracy: 51.13%\n",
      "Accuracy: 79.08%\n",
      "Model is 27.96% more accurate than null accuracy\n",
      "Train and test time: 10.97s\n",
      "--------------------------------------------------\n",
      "Validation result for 50000 features\n",
      "Null accuracy: 51.13%\n",
      "Accuracy: 79.21%\n",
      "Model is 28.08% more accurate than null accuracy\n",
      "Train and test time: 10.93s\n",
      "--------------------------------------------------\n",
      "Validation result for 60000 features\n",
      "Null accuracy: 51.13%\n",
      "Accuracy: 79.41%\n",
      "Model is 28.28% more accurate than null accuracy\n",
      "Train and test time: 11.39s\n",
      "--------------------------------------------------\n",
      "Validation result for 70000 features\n",
      "Null accuracy: 51.13%\n",
      "Accuracy: 79.08%\n",
      "Model is 27.96% more accurate than null accuracy\n",
      "Train and test time: 12.05s\n",
      "--------------------------------------------------\n",
      "Validation result for 80000 features\n",
      "Null accuracy: 51.13%\n",
      "Accuracy: 79.38%\n",
      "Model is 28.26% more accurate than null accuracy\n",
      "Train and test time: 11.61s\n",
      "--------------------------------------------------\n",
      "Validation result for 90000 features\n",
      "Null accuracy: 51.13%\n",
      "Accuracy: 79.21%\n",
      "Model is 28.08% more accurate than null accuracy\n",
      "Train and test time: 11.97s\n",
      "--------------------------------------------------\n",
      "Validation result for 100000 features\n",
      "Null accuracy: 51.13%\n",
      "Accuracy: 79.21%\n",
      "Model is 28.08% more accurate than null accuracy\n",
      "Train and test time: 13.91s\n",
      "--------------------------------------------------\n",
      "Wall time: 1min 55s\n"
     ]
    }
   ],
   "source": [
    "%%time\n",
    "print(\"RESULT FOR UNIGRAM WITHOUT CUSTOM STOP WORDS\\n\")\n",
    "feature_result_wocw = nfeature_accuracy_checker(stop_words = my_stop_words)"
   ]
  },
  {
   "cell_type": "code",
   "execution_count": 35,
   "id": "88089d08",
   "metadata": {},
   "outputs": [
    {
     "data": {
      "image/png": "[encoded data removed]",
      "text/plain": [
       "<Figure size 1000x800 with 1 Axes>"
      ]
     },
     "metadata": {},
     "output_type": "display_data"
    }
   ],
   "source": [
    "plt.figure(figsize=(10, 8))\n",
    "\n",
    "feature_plot_ug = pd.DataFrame(feature_result_unigram, columns = ['nfeatures', 'validation_accuracy', 'train_test_time'])\n",
    "feature_plot_wstop = pd.DataFrame(feature_result_unigram_stop, columns=['nfeatures', 'validation_accuracy', 'train_test_time'])\n",
    "feature_plot_stopcw = pd.DataFrame(feature_result_wocw, columns = ['nfeatures', 'validation_accuracy', 'train_test_time'])\n",
    "\n",
    "# Plotting without stop words\n",
    "plt.plot(feature_plot_ug.nfeatures, feature_plot_ug.validation_accuracy, label='Without Stop Words', marker='o', linestyle='-')\n",
    "\n",
    "# Plotting with stop words\n",
    "plt.plot(feature_plot_wstop.nfeatures, feature_plot_wstop.validation_accuracy, label='With Stop Words', marker='o', linestyle='-')\n",
    "\n",
    "# Plotting without custom stop words\n",
    "plt.plot(feature_plot_stopcw.nfeatures, feature_plot_stopcw.validation_accuracy, label='Without Custom Stop Words', marker='o', linestyle='-')\n",
    "\n",
    "# Adding labels and title\n",
    "plt.title('Unigram Accuracy with & without Stop Words & Without Custom Stopwords')\n",
    "plt.xlabel('Number of Features')\n",
    "plt.ylabel('Validation Accuracy')\n",
    "\n",
    "# Adding grid for better readability\n",
    "plt.grid(True, linestyle='--', alpha=0.7)\n",
    "\n",
    "# Adding legend\n",
    "plt.legend()\n",
    "\n",
    "# Adding a tight layout for better spacing\n",
    "plt.tight_layout()\n",
    "\n",
    "# Display the plot\n",
    "plt.show()"
   ]
  },
  {
   "cell_type": "markdown",
   "id": "1f527983",
   "metadata": {},
   "source": [
    "Hence, removing stop words did not improve the performance of the model. In this setting, keeping the stopwords improve the model performance."
   ]
  },
  {
   "cell_type": "markdown",
   "id": "65336434",
   "metadata": {},
   "source": [
    "<br>\n",
    "<span style=\"color: yellow; background-color: black; font-weight: bold; padding: 5px; font-size: 32px;\"> BIGRAM </span>\n",
    "</br>"
   ]
  },
  {
   "cell_type": "markdown",
   "id": "34ac655e",
   "metadata": {},
   "source": [
    "<br>\n",
    "<span style=\"color: blue; background-color: grey; font-weight: bold; padding: 5px; font-size: 24px;\"> WITH STOPWORDS </span>\n",
    "</br>"
   ]
  },
  {
   "cell_type": "code",
   "execution_count": 36,
   "id": "d64b2256",
   "metadata": {},
   "outputs": [
    {
     "name": "stdout",
     "output_type": "stream",
     "text": [
      "RESULT FOR BIGRAM\n",
      "\n",
      "LogisticRegression() \n",
      "\n",
      "Validation result for 10000 features\n",
      "Null accuracy: 51.13%\n",
      "Accuracy: 79.86%\n",
      "Model is 28.73% more accurate than null accuracy\n",
      "Train and test time: 21.16s\n",
      "--------------------------------------------------\n",
      "Validation result for 20000 features\n",
      "Null accuracy: 51.13%\n",
      "Accuracy: 79.93%\n",
      "Model is 28.81% more accurate than null accuracy\n",
      "Train and test time: 24.28s\n",
      "--------------------------------------------------\n",
      "Validation result for 30000 features\n",
      "Null accuracy: 51.13%\n",
      "Accuracy: 80.29%\n",
      "Model is 29.16% more accurate than null accuracy\n",
      "Train and test time: 28.54s\n",
      "--------------------------------------------------\n",
      "Validation result for 40000 features\n",
      "Null accuracy: 51.13%\n",
      "Accuracy: 80.41%\n",
      "Model is 29.28% more accurate than null accuracy\n",
      "Train and test time: 23.25s\n",
      "--------------------------------------------------\n",
      "Validation result for 50000 features\n",
      "Null accuracy: 51.13%\n",
      "Accuracy: 80.79%\n",
      "Model is 29.66% more accurate than null accuracy\n",
      "Train and test time: 22.49s\n",
      "--------------------------------------------------\n",
      "Validation result for 60000 features\n",
      "Null accuracy: 51.13%\n",
      "Accuracy: 80.71%\n",
      "Model is 29.58% more accurate than null accuracy\n",
      "Train and test time: 51.96s\n",
      "--------------------------------------------------\n",
      "Validation result for 70000 features\n",
      "Null accuracy: 51.13%\n",
      "Accuracy: 80.64%\n",
      "Model is 29.51% more accurate than null accuracy\n",
      "Train and test time: 24.24s\n",
      "--------------------------------------------------\n",
      "Validation result for 80000 features\n",
      "Null accuracy: 51.13%\n",
      "Accuracy: 80.41%\n",
      "Model is 29.28% more accurate than null accuracy\n",
      "Train and test time: 23.74s\n",
      "--------------------------------------------------\n",
      "Validation result for 90000 features\n",
      "Null accuracy: 51.13%\n",
      "Accuracy: 80.39%\n",
      "Model is 29.26% more accurate than null accuracy\n",
      "Train and test time: 22.45s\n",
      "--------------------------------------------------\n",
      "Validation result for 100000 features\n",
      "Null accuracy: 51.13%\n",
      "Accuracy: 80.61%\n",
      "Model is 29.48% more accurate than null accuracy\n",
      "Train and test time: 26.12s\n",
      "--------------------------------------------------\n",
      "Wall time: 4min 28s\n"
     ]
    }
   ],
   "source": [
    "%%time\n",
    "print(\"RESULT FOR BIGRAM\\n\")\n",
    "feature_result_bg = nfeature_accuracy_checker(ngram_range=(1,2))"
   ]
  },
  {
   "cell_type": "markdown",
   "id": "4b2b8d7a",
   "metadata": {},
   "source": [
    "<br>\n",
    "<span style=\"color: yellow; background-color: black; font-weight: bold; padding: 5px; font-size: 32px;\"> TRIGRAM </span>\n",
    "</br>"
   ]
  },
  {
   "cell_type": "markdown",
   "id": "7b9730c5",
   "metadata": {},
   "source": [
    "<br>\n",
    "<span style=\"color: blue; background-color: grey; font-weight: bold; padding: 5px; font-size: 24px;\"> WITH STOPWORDS </span>\n",
    "</br>"
   ]
  },
  {
   "cell_type": "code",
   "execution_count": 37,
   "id": "d2f17074",
   "metadata": {},
   "outputs": [
    {
     "name": "stdout",
     "output_type": "stream",
     "text": [
      "RESULT FOR TRIGRAM\n",
      "\n",
      "LogisticRegression() \n",
      "\n",
      "Validation result for 10000 features\n",
      "Null accuracy: 51.13%\n",
      "Accuracy: 79.86%\n",
      "Model is 28.73% more accurate than null accuracy\n",
      "Train and test time: 41.10s\n",
      "--------------------------------------------------\n",
      "Validation result for 20000 features\n",
      "Null accuracy: 51.13%\n",
      "Accuracy: 80.14%\n",
      "Model is 29.01% more accurate than null accuracy\n",
      "Train and test time: 36.72s\n",
      "--------------------------------------------------\n",
      "Validation result for 30000 features\n",
      "Null accuracy: 51.13%\n",
      "Accuracy: 80.34%\n",
      "Model is 29.21% more accurate than null accuracy\n",
      "Train and test time: 39.53s\n",
      "--------------------------------------------------\n",
      "Validation result for 40000 features\n",
      "Null accuracy: 51.13%\n",
      "Accuracy: 80.29%\n",
      "Model is 29.16% more accurate than null accuracy\n",
      "Train and test time: 38.33s\n",
      "--------------------------------------------------\n",
      "Validation result for 50000 features\n",
      "Null accuracy: 51.13%\n",
      "Accuracy: 80.66%\n",
      "Model is 29.53% more accurate than null accuracy\n",
      "Train and test time: 37.89s\n",
      "--------------------------------------------------\n",
      "Validation result for 60000 features\n",
      "Null accuracy: 51.13%\n",
      "Accuracy: 80.61%\n",
      "Model is 29.48% more accurate than null accuracy\n",
      "Train and test time: 36.90s\n",
      "--------------------------------------------------\n",
      "Validation result for 70000 features\n",
      "Null accuracy: 51.13%\n",
      "Accuracy: 80.66%\n",
      "Model is 29.53% more accurate than null accuracy\n",
      "Train and test time: 39.47s\n",
      "--------------------------------------------------\n",
      "Validation result for 80000 features\n",
      "Null accuracy: 51.13%\n",
      "Accuracy: 80.36%\n",
      "Model is 29.23% more accurate than null accuracy\n",
      "Train and test time: 43.85s\n",
      "--------------------------------------------------\n",
      "Validation result for 90000 features\n",
      "Null accuracy: 51.13%\n",
      "Accuracy: 80.61%\n",
      "Model is 29.48% more accurate than null accuracy\n",
      "Train and test time: 41.04s\n",
      "--------------------------------------------------\n",
      "Validation result for 100000 features\n",
      "Null accuracy: 51.13%\n",
      "Accuracy: 80.34%\n",
      "Model is 29.21% more accurate than null accuracy\n",
      "Train and test time: 39.29s\n",
      "--------------------------------------------------\n",
      "Wall time: 6min 34s\n"
     ]
    }
   ],
   "source": [
    "%%time\n",
    "print(\"RESULT FOR TRIGRAM\\n\")\n",
    "feature_result_tg = nfeature_accuracy_checker(ngram_range=(1,3))"
   ]
  },
  {
   "cell_type": "code",
   "execution_count": 38,
   "id": "37792d2b",
   "metadata": {},
   "outputs": [
    {
     "data": {
      "image/png": "[encoded data removed]",
      "text/plain": [
       "<Figure size 1000x800 with 1 Axes>"
      ]
     },
     "metadata": {},
     "output_type": "display_data"
    }
   ],
   "source": [
    "plt.figure(figsize=(10, 8))\n",
    "\n",
    "feature_plot_ug = pd.DataFrame(feature_result_unigram_stop, columns = ['nfeatures', 'validation_accuracy', 'train_test_time'])\n",
    "feature_plot_bg = pd.DataFrame(feature_result_bg, columns=['nfeatures', 'validation_accuracy', 'train_test_time'])\n",
    "feature_plot_tg = pd.DataFrame(feature_result_tg, columns = ['nfeatures', 'validation_accuracy', 'train_test_time'])\n",
    "\n",
    "# Plotting unigram\n",
    "plt.plot(feature_plot_ug.nfeatures, feature_plot_ug.validation_accuracy, label='Unigram', marker='o', linestyle='-', color='blue')\n",
    "\n",
    "# Plotting bigram\n",
    "plt.plot(feature_plot_bg.nfeatures, feature_plot_bg.validation_accuracy, label='Bigram', marker='s', linestyle='--', color='green')\n",
    "\n",
    "# Plotting trigram\n",
    "plt.plot(feature_plot_tg.nfeatures, feature_plot_tg.validation_accuracy, label='Trigram', marker='^', linestyle='-.', color='orange')\n",
    "\n",
    "# Adding labels and title\n",
    "plt.title('N-gram (1-3) Accuracy')\n",
    "plt.xlabel('Number of Features')\n",
    "plt.ylabel('Validation Accuracy')\n",
    "\n",
    "# Adding grid for better readability\n",
    "plt.grid(True, linestyle='--', alpha=0.7)\n",
    "\n",
    "# Adding legend\n",
    "plt.legend()\n",
    "\n",
    "# Adding a tight layout for better spacing\n",
    "plt.tight_layout()\n",
    "\n",
    "# Display the plot\n",
    "plt.show()"
   ]
  },
  {
   "cell_type": "markdown",
   "id": "0c602d7d",
   "metadata": {},
   "source": [
    "<div style=\"text-align: center; background-color: yellow; padding: 10px;\">\n",
    "    <h2 style=\"font-weight: bold;\">CLASSIFICATION REPORT</h2>\n",
    "</div>"
   ]
  },
  {
   "cell_type": "code",
   "execution_count": 39,
   "id": "9213b07c",
   "metadata": {},
   "outputs": [],
   "source": [
    "null_accuracy = 0\n",
    "def evaluate(pipeline, x_train, y_train, x_test, y_test):\n",
    "    if len(x_test[y_test==0])/len(x_test)>0.5:\n",
    "        null_accuracy = len(x_test[y_test==0])/len(x_test)\n",
    "    else:\n",
    "        null_accuracy = 1 - len(x_test[y_test==0])/len(x_test)\n",
    "    sentiment_fit = pipeline.fit(x_train, y_train)\n",
    "    y_pred = sentiment_fit.predict(x_test)\n",
    "    accuracy = accuracy_score(y_test, y_pred)\n",
    "    conmat = np.array(confusion_matrix(y_validation, tbpred, labels=[0,1]))\n",
    "    confusion = pd.DataFrame(conmat, index=['negative', 'positive'], columns=['predicted_negative', 'predicted_positive'])\n",
    "    print(\"Null accuracy: {0:.2f}%\".format(null_accuracy*100))\n",
    "    print(\"Accuracy: {0:.2f}%\".format(accuracy*100))\n",
    "    if accuracy>null_accuracy:\n",
    "        print(\"Model is {0:.2f}% more accurate than null accuracy\".format((accuracy-null_accuracy)*100))\n",
    "    elif accuracy==null_accuracy:\n",
    "        print(\"Model has the same accuracy as null accuracy\")\n",
    "    else:\n",
    "        print(\"Model is {0:.2f}% less accurate than null accuracy\".format((null_accuracy-accuracy)*100))\n",
    "    print(\"-\"*50)\n",
    "    print(\"CONFUSION MATRIX\\n\")\n",
    "    print(confusion)\n",
    "    print(\"-\"*50)\n",
    "    print(classification_report(y_test, y_pred, target_names=['negative', 'positive']))"
   ]
  },
  {
   "cell_type": "markdown",
   "id": "72bb466e",
   "metadata": {},
   "source": [
    "<br>\n",
    "<span style=\"color: lightgreen; background-color: black; font-weight: bold; padding: 5px; font-size: 24px;\"> UNIGRAM </span>\n",
    "</br>"
   ]
  },
  {
   "cell_type": "code",
   "execution_count": 40,
   "id": "687008c8",
   "metadata": {},
   "outputs": [
    {
     "name": "stdout",
     "output_type": "stream",
     "text": [
      "Null accuracy: 51.13%\n",
      "Accuracy: 79.21%\n",
      "Model is 28.08% more accurate than null accuracy\n",
      "--------------------------------------------------\n",
      "CONFUSION MATRIX\n",
      "\n",
      "          predicted_negative  predicted_positive\n",
      "negative                 654                1297\n",
      "positive                 212                1829\n",
      "--------------------------------------------------\n",
      "              precision    recall  f1-score   support\n",
      "\n",
      "    negative       0.80      0.77      0.78      1951\n",
      "    positive       0.79      0.81      0.80      2041\n",
      "\n",
      "    accuracy                           0.79      3992\n",
      "   macro avg       0.79      0.79      0.79      3992\n",
      "weighted avg       0.79      0.79      0.79      3992\n",
      "\n",
      "Wall time: 12.9 s\n"
     ]
    }
   ],
   "source": [
    "%%time\n",
    "ug_vector = CountVectorizer(max_features=100000)\n",
    "ug_pipeline = Pipeline([('vectorizer', ug_vector), ('classifier', lr)])\n",
    "evaluate(ug_pipeline, x_train, y_train, x_validation, y_validation)"
   ]
  },
  {
   "cell_type": "markdown",
   "id": "2df63c55",
   "metadata": {},
   "source": [
    "<br>\n",
    "<span style=\"color: lightgreen; background-color: black; font-weight: bold; padding: 5px; font-size: 24px;\"> BIGRAM </span>\n",
    "</br>"
   ]
  },
  {
   "cell_type": "code",
   "execution_count": 41,
   "id": "558b7875",
   "metadata": {},
   "outputs": [
    {
     "name": "stdout",
     "output_type": "stream",
     "text": [
      "Null accuracy: 51.13%\n",
      "Accuracy: 80.64%\n",
      "Model is 29.51% more accurate than null accuracy\n",
      "--------------------------------------------------\n",
      "CONFUSION MATRIX\n",
      "\n",
      "          predicted_negative  predicted_positive\n",
      "negative                 654                1297\n",
      "positive                 212                1829\n",
      "--------------------------------------------------\n",
      "              precision    recall  f1-score   support\n",
      "\n",
      "    negative       0.80      0.80      0.80      1951\n",
      "    positive       0.81      0.81      0.81      2041\n",
      "\n",
      "    accuracy                           0.81      3992\n",
      "   macro avg       0.81      0.81      0.81      3992\n",
      "weighted avg       0.81      0.81      0.81      3992\n",
      "\n",
      "Wall time: 23.3 s\n"
     ]
    }
   ],
   "source": [
    "%%time\n",
    "bg_vector = CountVectorizer(max_features=70000, ngram_range=(1,2))\n",
    "bg_pipeline = Pipeline([('vectorizer', bg_vector), ('classifier', lr)])\n",
    "evaluate(bg_pipeline, x_train, y_train, x_validation, y_validation)"
   ]
  },
  {
   "cell_type": "markdown",
   "id": "cc9fc889",
   "metadata": {},
   "source": [
    "<br>\n",
    "<span style=\"color: lightgreen; background-color: black; font-weight: bold; padding: 5px; font-size: 24px;\"> TRIGRAM </span>\n",
    "</br>"
   ]
  },
  {
   "cell_type": "code",
   "execution_count": 42,
   "id": "7aeb73de",
   "metadata": {},
   "outputs": [
    {
     "name": "stdout",
     "output_type": "stream",
     "text": [
      "Null accuracy: 51.13%\n",
      "Accuracy: 80.36%\n",
      "Model is 29.23% more accurate than null accuracy\n",
      "--------------------------------------------------\n",
      "CONFUSION MATRIX\n",
      "\n",
      "          predicted_negative  predicted_positive\n",
      "negative                 654                1297\n",
      "positive                 212                1829\n",
      "--------------------------------------------------\n",
      "              precision    recall  f1-score   support\n",
      "\n",
      "    negative       0.80      0.79      0.80      1951\n",
      "    positive       0.80      0.82      0.81      2041\n",
      "\n",
      "    accuracy                           0.80      3992\n",
      "   macro avg       0.80      0.80      0.80      3992\n",
      "weighted avg       0.80      0.80      0.80      3992\n",
      "\n",
      "Wall time: 40.3 s\n"
     ]
    }
   ],
   "source": [
    "%%time\n",
    "tg_vector = CountVectorizer(max_features=80000, ngram_range=(1,3))\n",
    "tg_pipeline = Pipeline([('vectorizer', tg_vector), ('classifier', lr)])\n",
    "evaluate(tg_pipeline, x_train, y_train, x_validation, y_validation)"
   ]
  },
  {
   "cell_type": "markdown",
   "id": "c534a927",
   "metadata": {},
   "source": [
    "<div style=\"text-align: center; background-color: yellow; padding: 10px;\">\n",
    "    <h2 style=\"font-weight: bold;\">SAVING THE DATASET</h2>\n",
    "</div>"
   ]
  },
  {
   "cell_type": "code",
   "execution_count": 43,
   "id": "58edc921",
   "metadata": {},
   "outputs": [],
   "source": [
    "feature_plot_ug.to_csv('ug-without-stopwords.csv')\n",
    "feature_plot_wstop.to_csv('ug-with-stopwords.csv')\n",
    "feature_plot_stopcw.to_csv('ug-without-custom-stopwords.csv')"
   ]
  },
  {
   "cell_type": "code",
   "execution_count": 44,
   "id": "6c4a9c99",
   "metadata": {},
   "outputs": [],
   "source": [
    "feature_plot_ug.to_csv('ug.csv')\n",
    "feature_plot_bg.to_csv('bg.csv')\n",
    "feature_plot_tg.to_csv('tg.csv')"
   ]
  }
 ],
 "metadata": {
  "kernelspec": {
   "display_name": "Python 3 (ipykernel)",
   "language": "python",
   "name": "python3"
  },
  "language_info": {
   "codemirror_mode": {
    "name": "ipython",
    "version": 3
   },
   "file_extension": ".py",
   "mimetype": "text/x-python",
   "name": "python",
   "nbconvert_exporter": "python",
   "pygments_lexer": "ipython3",
   "version": "3.9.13"
  }
 },
 "nbformat": 4,
 "nbformat_minor": 5
}
